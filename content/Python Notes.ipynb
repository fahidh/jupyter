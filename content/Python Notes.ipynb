{
 "cells": [
  {
   "cell_type": "code",
   "execution_count": 3,
   "id": "0eac9bf5",
   "metadata": {},
   "outputs": [],
   "source": [
    "# Anaconda has many built-in SW packages, including Jupyter Notebook and libraries required for ML as pandas, NumPy, SciPy, \n",
    "# Scikit-learn, Keras, TensorFlow, Matplotlib, etc.\n",
    "# Packages, notebooks, projects and environments are shared at https://anaconda.org/\n",
    "# Install Anaconda and whole environment is ready https://www.anaconda.com/products/distribution\n",
    "# Jupyter Notebook https://jupyter-notebook.readthedocs.io/en/stable/ https://jupyter.org/\n",
    "# Highlight lines and press ctrl+/ to write comments in Python"
   ]
  },
  {
   "cell_type": "code",
   "execution_count": 7,
   "id": "818c32a8",
   "metadata": {
    "scrolled": true
   },
   "outputs": [
    {
     "name": "stdout",
     "output_type": "stream",
     "text": [
      "Welcome to Jupyter!\n"
     ]
    }
   ],
   "source": [
    "print(\"Welcome to Jupyter!\") # click the Run button in JN or press Shift + Enter"
   ]
  },
  {
   "cell_type": "code",
   "execution_count": 8,
   "id": "5c9735aa",
   "metadata": {},
   "outputs": [],
   "source": [
    "variable = 1 "
   ]
  },
  {
   "cell_type": "code",
   "execution_count": 9,
   "id": "f4725aad",
   "metadata": {},
   "outputs": [
    {
     "name": "stdout",
     "output_type": "stream",
     "text": [
      "variable\t \n"
     ]
    }
   ],
   "source": [
    "%who\n",
    "\n",
    "# %whos int\n",
    "\n",
    "# %who_ls list"
   ]
  },
  {
   "cell_type": "code",
   "execution_count": 7,
   "id": "7eff1240",
   "metadata": {
    "scrolled": false
   },
   "outputs": [
    {
     "name": "stdout",
     "output_type": "stream",
     "text": [
      "Enter your name Fahid\n",
      "Hi my name is Fahid .\n"
     ]
    }
   ],
   "source": [
    "name=input(\"Enter your name \")\n",
    "print(\"Hi my name is\", name,\".\")"
   ]
  },
  {
   "cell_type": "markdown",
   "id": "be30640f",
   "metadata": {},
   "source": [
    "## Simple"
   ]
  },
  {
   "cell_type": "code",
   "execution_count": 20,
   "id": "5436d491",
   "metadata": {
    "scrolled": true
   },
   "outputs": [
    {
     "data": {
      "image/png": "[encoded data removed]",
      "text/plain": [
       "<Figure size 640x480 with 1 Axes>"
      ]
     },
     "metadata": {},
     "output_type": "display_data"
    }
   ],
   "source": [
    "import matplotlib.pyplot as plt\n",
    "plt.plot([1,2,3,4], [1,2,3,4])\n",
    "plt.show()"
   ]
  },
  {
   "cell_type": "raw",
   "id": "d27614e8",
   "metadata": {},
   "source": [
    "Simple graph"
   ]
  },
  {
   "cell_type": "code",
   "execution_count": 25,
   "id": "af9e1e57",
   "metadata": {},
   "outputs": [],
   "source": [
    "tired=\"True\"\n",
    "if(tired==True):\n",
    "    rest()"
   ]
  },
  {
   "cell_type": "code",
   "execution_count": 11,
   "id": "ffec2f47",
   "metadata": {},
   "outputs": [
    {
     "name": "stdout",
     "output_type": "stream",
     "text": [
      "fifteen is greater than nine\n"
     ]
    }
   ],
   "source": [
    "if 9 < 15:\n",
    "    print(\"fifteen is greater than nine\")"
   ]
  },
  {
   "cell_type": "code",
   "execution_count": 16,
   "id": "88204c73",
   "metadata": {},
   "outputs": [
    {
     "ename": "SyntaxError",
     "evalue": "invalid syntax (1769710473.py, line 1)",
     "output_type": "error",
     "traceback": [
      "\u001b[1;36m  File \u001b[1;32m\"C:\\Users\\trehasansa\\AppData\\Local\\Temp\\ipykernel_20000\\1769710473.py\"\u001b[1;36m, line \u001b[1;32m1\u001b[0m\n\u001b[1;33m    0Z_az9 = 2 # This identifier (variable name) is ok\u001b[0m\n\u001b[1;37m     ^\u001b[0m\n\u001b[1;31mSyntaxError\u001b[0m\u001b[1;31m:\u001b[0m invalid syntax\n"
     ]
    }
   ],
   "source": [
    "0Z_az9 = 2 # This identifier (variable name) is ok"
   ]
  },
  {
   "cell_type": "code",
   "execution_count": 15,
   "id": "49390994",
   "metadata": {},
   "outputs": [
    {
     "name": "stdout",
     "output_type": "stream",
     "text": [
      "2\n"
     ]
    }
   ],
   "source": [
    "print(A0Z_az9)"
   ]
  },
  {
   "cell_type": "code",
   "execution_count": 23,
   "id": "d0911445",
   "metadata": {},
   "outputs": [
    {
     "name": "stdout",
     "output_type": "stream",
     "text": [
      "Enter your name: Fahid\n",
      "Hi my name is Fahid.\n"
     ]
    }
   ],
   "source": [
    "name=input(\"Enter your name: \") # example of input function\n",
    "print(\"Hi my name is\", name + \".\")"
   ]
  },
  {
   "cell_type": "code",
   "execution_count": 30,
   "id": "b9896de2",
   "metadata": {},
   "outputs": [],
   "source": [
    "number = 100 # A number (integer) \n",
    "size = 100.432 # A number (floating point)\n",
    "name = \"TechClass\" # A text (string)\n",
    "a = b = c = 10  # assigning single value to several variables\n",
    "number, size, name = 101, 100.43, \"TClass\" # assigning multiple objects to multiple variables"
   ]
  },
  {
   "cell_type": "code",
   "execution_count": 35,
   "id": "d45b7a7b",
   "metadata": {},
   "outputs": [
    {
     "name": "stdout",
     "output_type": "stream",
     "text": [
      "10\n"
     ]
    }
   ],
   "source": [
    "print(c)"
   ]
  },
  {
   "cell_type": "code",
   "execution_count": 42,
   "id": "332236a3",
   "metadata": {},
   "outputs": [],
   "source": [
    "a = 32+4j\n",
    "b = -32+3j"
   ]
  },
  {
   "cell_type": "code",
   "execution_count": 39,
   "id": "209a7a52",
   "metadata": {},
   "outputs": [
    {
     "name": "stdout",
     "output_type": "stream",
     "text": [
      "(32+4j)\n"
     ]
    }
   ],
   "source": [
    "print(a)"
   ]
  },
  {
   "cell_type": "code",
   "execution_count": null,
   "id": "237a658b",
   "metadata": {},
   "outputs": [],
   "source": []
  }
 ],
 "metadata": {
  "kernelspec": {
   "display_name": "Python 3 (ipykernel)",
   "language": "python",
   "name": "python3"
  },
  "language_info": {
   "codemirror_mode": {
    "name": "ipython",
    "version": 3
   },
   "file_extension": ".py",
   "mimetype": "text/x-python",
   "name": "python",
   "nbconvert_exporter": "python",
   "pygments_lexer": "ipython3",
   "version": "3.9.13"
  }
 },
 "nbformat": 4,
 "nbformat_minor": 5
}
